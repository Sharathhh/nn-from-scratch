{
 "cells": [
  {
   "cell_type": "code",
   "execution_count": 109,
   "id": "b1cb1995-aeba-404e-940d-25b9515cee13",
   "metadata": {},
   "outputs": [
    {
     "data": {
      "text/html": [
       "<img src=\"https://media.licdn.com/dms/image/v2/C4D12AQH1VEPU1BcznA/article-inline_image-shrink_1000_1488/article-inline_image-shrink_1000_1488/0/1591897371531?e=1750896000&v=beta&t=xoLw721skQG-_Euty4scXnOr_HGposPnQxiqMrcEtBw\"/>"
      ],
      "text/plain": [
       "<IPython.core.display.Image object>"
      ]
     },
     "metadata": {},
     "output_type": "display_data"
    }
   ],
   "source": [
    "from IPython.display import Image, display\n",
    "\n",
    "display(Image(url=\"https://media.licdn.com/dms/image/v2/C4D12AQH1VEPU1BcznA/article-inline_image-shrink_1000_1488/article-inline_image-shrink_1000_1488/0/1591897371531?e=1750896000&v=beta&t=xoLw721skQG-_Euty4scXnOr_HGposPnQxiqMrcEtBw\"))\n"
   ]
  },
  {
   "cell_type": "code",
   "execution_count": 43,
   "id": "18edb3e1-b9a7-4989-86ee-ee20fd33e8ed",
   "metadata": {},
   "outputs": [],
   "source": [
    "import numpy as np\n",
    "\n",
    "# Input and true output\n",
    "X = np.array([[0.5, 0.2]])  # Shape (1, 2)\n",
    "y = np.array([[1]])         # Ground truth\n",
    "\n",
    "# Weights and biases\n",
    "W1 = np.array([[0.1, 0.4],\n",
    "               [0.3, 0.2]])\n",
    "b1 = np.array([[0.01, 0.02]])\n",
    "\n",
    "W2 = np.array([[0.6],\n",
    "               [0.7]])\n",
    "b2 = np.array([[0.03]])\n"
   ]
  },
  {
   "cell_type": "markdown",
   "id": "ee298f5d-b456-428d-aa36-db876a3bffae",
   "metadata": {},
   "source": [
    "## ACTIVATION FUNCTION AND DERIVATIVE"
   ]
  },
  {
   "cell_type": "code",
   "execution_count": 45,
   "id": "d5e5345a-f75a-422c-a1ca-b91d17f7f5b6",
   "metadata": {},
   "outputs": [],
   "source": [
    "def relu(z):\n",
    "    return np.maximum(0,z)\n",
    "\n",
    "\n",
    "def sigmoid(z):\n",
    "    return 1/(1+ np.exp(-z))"
   ]
  },
  {
   "cell_type": "markdown",
   "id": "197db09b-8179-4602-9a07-abf8ebd001c1",
   "metadata": {},
   "source": [
    "## FORWARD PROPAGATION\n",
    "\n",
    "* Data flows from input to output through the layers.\n",
    "* Each neuron computes its output based on weights and activation functions.\n",
    "* Goal: Get the predicted output\n",
    "* Final output is a prediction y^\n",
    "* Example:\n",
    "   “Is this a cat or not?” → Network outputs: 0.83 (yes)"
   ]
  },
  {
   "cell_type": "code",
   "execution_count": 47,
   "id": "6b591054-9dac-4dbf-84d6-8e9891787969",
   "metadata": {},
   "outputs": [],
   "source": [
    "Z1= np.dot(X, W1)+b1\n",
    "A1= relu(Z1)\n",
    "\n",
    "\n",
    "Z2= np.dot( A1, W2)+ b2\n",
    "A2= sigmoid(Z2)\n"
   ]
  },
  {
   "cell_type": "markdown",
   "id": "9289ec93-c620-46d0-9314-fda8e41ee53d",
   "metadata": {},
   "source": [
    "## LOSS FUNCTION\n",
    "\n",
    "* Measures the Loss\n",
    "* It gives a single number that represent badness\n",
    "* Example:\n",
    "     True label is 1 (cat), but prediction is 0.83 → loss ≈ 0.18"
   ]
  },
  {
   "cell_type": "code",
   "execution_count": 49,
   "id": "3d5d54e7-8fc9-41a6-9438-0584a4b64921",
   "metadata": {},
   "outputs": [],
   "source": [
    "loss = -(y * np.log(A2)+ (1-y) * np.log(1-A2)) "
   ]
  },
  {
   "cell_type": "markdown",
   "id": "985db15a-1a5a-4ca7-b96e-cadd43550819",
   "metadata": {},
   "source": [
    "## BACKWARD PROPAGATION ##\n",
    "\n",
    "* Uses calculus (chain rule) to compute gradients: how changing each parameter affects m     the loss.\n",
    "* It tells how to change weight to reduce error.\n",
    "* Calculates how much each weight and bias contributed to the error."
   ]
  },
  {
   "cell_type": "markdown",
   "id": "5dadb69e-77a1-456d-b740-baa904b77537",
   "metadata": {},
   "source": [
    "## GRADIENT DESCENT\n",
    "\n",
    "* Uses the gradients from backpropagation to update weights.\n",
    "* It’s an optimization algorithm that tries to find the minimum of the loss function.\n",
    "* Compute gradient\n",
    "* It finds global minima or local minima of loss function\n",
    "* Example: Update the weights so the next prediction is 0.90 instead of 0.83\n"
   ]
  },
  {
   "cell_type": "code",
   "execution_count": 51,
   "id": "83d99e70-be68-4d67-a545-49fcb420da8e",
   "metadata": {},
   "outputs": [],
   "source": [
    "dZ2= A2-y\n",
    "dW2= np.dot(A1.T, dZ2)\n",
    "db2= dZ2"
   ]
  },
  {
   "cell_type": "code",
   "execution_count": 53,
   "id": "41439095-90b8-4be0-92a5-3faaea009b86",
   "metadata": {},
   "outputs": [],
   "source": [
    "dA1= np.dot(dZ2, W2.T)\n",
    "dZ1= dA1 * relu(Z1)\n",
    "dW1= np.dot(X.T, dZ1)\n",
    "db1= dZ1"
   ]
  },
  {
   "cell_type": "code",
   "execution_count": null,
   "id": "ca846f1b-c95a-40cd-a216-8686996e46e1",
   "metadata": {},
   "outputs": [],
   "source": []
  },
  {
   "cell_type": "code",
   "execution_count": 61,
   "id": "ca4334cd-2884-4d98-b8f8-99b42bfc86ed",
   "metadata": {},
   "outputs": [
    {
     "name": "stdout",
     "output_type": "stream",
     "text": [
      "Updated W1: [[0.10046383 0.40117246]\n",
      " [0.30018553 0.20046898]]\n",
      "Updated b1: [[0.01092766 0.02234492]]\n",
      "Updated W2: [[0.60103074]\n",
      " [0.70223326]]\n",
      "Updated b2: [[0.03858947]]\n"
     ]
    }
   ],
   "source": [
    "#Gradient descent uodate\n",
    "learning_rate= 0.01\n",
    "\n",
    "W1-=  learning_rate* dW1\n",
    "b1-= learning_rate* db1\n",
    "W2-= learning_rate* dW2\n",
    "b2-= learning_rate* db2\n",
    "\n",
    "print(\"Updated W1:\", W1)\n",
    "print(\"Updated b1:\", b1)\n",
    "print(\"Updated W2:\", W2)\n",
    "print(\"Updated b2:\", b2)"
   ]
  }
 ],
 "metadata": {
  "kernelspec": {
   "display_name": "Python [conda env:base] *",
   "language": "python",
   "name": "conda-base-py"
  },
  "language_info": {
   "codemirror_mode": {
    "name": "ipython",
    "version": 3
   },
   "file_extension": ".py",
   "mimetype": "text/x-python",
   "name": "python",
   "nbconvert_exporter": "python",
   "pygments_lexer": "ipython3",
   "version": "3.12.4"
  }
 },
 "nbformat": 4,
 "nbformat_minor": 5
}
